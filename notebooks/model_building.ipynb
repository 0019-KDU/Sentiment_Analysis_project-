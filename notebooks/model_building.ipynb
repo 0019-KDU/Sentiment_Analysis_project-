{
 "cells": [
  {
   "cell_type": "code",
   "execution_count": 13,
   "id": "c8a2b753-9cec-4f88-969f-1a6eaeabe0f5",
   "metadata": {},
   "outputs": [],
   "source": [
    "import numpy as np\n",
    "import pandas as pd\n",
    "import matplotlib.pyplot as plt"
   ]
  },
  {
   "cell_type": "code",
   "execution_count": 14,
   "id": "b354f755-4217-459d-bfcb-ffb6001dc9fb",
   "metadata": {},
   "outputs": [],
   "source": [
    "data = pd.read_csv('../artifacts/sentiment_analysis.csv')"
   ]
  },
  {
   "cell_type": "code",
   "execution_count": 15,
   "id": "01699e6d-2300-4f2f-9da5-fac245fcc244",
   "metadata": {},
   "outputs": [
    {
     "data": {
      "text/html": [
       "<div>\n",
       "<style scoped>\n",
       "    .dataframe tbody tr th:only-of-type {\n",
       "        vertical-align: middle;\n",
       "    }\n",
       "\n",
       "    .dataframe tbody tr th {\n",
       "        vertical-align: top;\n",
       "    }\n",
       "\n",
       "    .dataframe thead th {\n",
       "        text-align: right;\n",
       "    }\n",
       "</style>\n",
       "<table border=\"1\" class=\"dataframe\">\n",
       "  <thead>\n",
       "    <tr style=\"text-align: right;\">\n",
       "      <th></th>\n",
       "      <th>id</th>\n",
       "      <th>label</th>\n",
       "      <th>tweet</th>\n",
       "    </tr>\n",
       "  </thead>\n",
       "  <tbody>\n",
       "    <tr>\n",
       "      <th>0</th>\n",
       "      <td>1</td>\n",
       "      <td>0</td>\n",
       "      <td>#fingerprint #Pregnancy Test https://goo.gl/h1...</td>\n",
       "    </tr>\n",
       "    <tr>\n",
       "      <th>1</th>\n",
       "      <td>2</td>\n",
       "      <td>0</td>\n",
       "      <td>Finally a transparant silicon case ^^ Thanks t...</td>\n",
       "    </tr>\n",
       "    <tr>\n",
       "      <th>2</th>\n",
       "      <td>3</td>\n",
       "      <td>0</td>\n",
       "      <td>We love this! Would you go? #talk #makememorie...</td>\n",
       "    </tr>\n",
       "    <tr>\n",
       "      <th>3</th>\n",
       "      <td>4</td>\n",
       "      <td>0</td>\n",
       "      <td>I'm wired I know I'm George I was made that wa...</td>\n",
       "    </tr>\n",
       "    <tr>\n",
       "      <th>4</th>\n",
       "      <td>5</td>\n",
       "      <td>1</td>\n",
       "      <td>What amazing service! Apple won't even talk to...</td>\n",
       "    </tr>\n",
       "  </tbody>\n",
       "</table>\n",
       "</div>"
      ],
      "text/plain": [
       "   id  label                                              tweet\n",
       "0   1      0  #fingerprint #Pregnancy Test https://goo.gl/h1...\n",
       "1   2      0  Finally a transparant silicon case ^^ Thanks t...\n",
       "2   3      0  We love this! Would you go? #talk #makememorie...\n",
       "3   4      0  I'm wired I know I'm George I was made that wa...\n",
       "4   5      1  What amazing service! Apple won't even talk to..."
      ]
     },
     "execution_count": 15,
     "metadata": {},
     "output_type": "execute_result"
    }
   ],
   "source": [
    "data.head()"
   ]
  },
  {
   "cell_type": "markdown",
   "id": "adc35506-8bc5-4180-bc45-d64f70e082ff",
   "metadata": {},
   "source": [
    "## DATA PREPROCESSING"
   ]
  },
  {
   "cell_type": "code",
   "execution_count": 16,
   "id": "648299a6-4f47-4506-924c-e62d35ca51bc",
   "metadata": {},
   "outputs": [
    {
     "data": {
      "text/plain": [
       "(7920, 3)"
      ]
     },
     "execution_count": 16,
     "metadata": {},
     "output_type": "execute_result"
    }
   ],
   "source": [
    "data.shape"
   ]
  },
  {
   "cell_type": "code",
   "execution_count": 17,
   "id": "d9e5c2ed-9b93-4459-af43-3e19b394d076",
   "metadata": {},
   "outputs": [
    {
     "data": {
      "text/plain": [
       "np.int64(0)"
      ]
     },
     "execution_count": 17,
     "metadata": {},
     "output_type": "execute_result"
    }
   ],
   "source": [
    "data.duplicated().sum()"
   ]
  },
  {
   "cell_type": "code",
   "execution_count": 18,
   "id": "55e8bbeb-c7e4-4dae-8bc8-72811a093b3c",
   "metadata": {},
   "outputs": [
    {
     "data": {
      "text/plain": [
       "id       0\n",
       "label    0\n",
       "tweet    0\n",
       "dtype: int64"
      ]
     },
     "execution_count": 18,
     "metadata": {},
     "output_type": "execute_result"
    }
   ],
   "source": [
    "data.isnull().sum()"
   ]
  },
  {
   "cell_type": "markdown",
   "id": "c21f50f7-5538-4650-9ac7-b5e583e61c69",
   "metadata": {},
   "source": [
    "### Text Preprocessing"
   ]
  },
  {
   "cell_type": "code",
   "execution_count": 19,
   "id": "10468fb5-1d5b-428a-9eaf-939ae354121c",
   "metadata": {},
   "outputs": [],
   "source": [
    "import re\n",
    "import string"
   ]
  },
  {
   "cell_type": "markdown",
   "id": "a3184c4a-4773-4808-b4f1-e7acf9cb2cca",
   "metadata": {},
   "source": [
    "convert uppercase to lowercase"
   ]
  },
  {
   "cell_type": "code",
   "execution_count": 20,
   "id": "c6d88c6b-5b4e-4aa9-a075-340e4e9ec347",
   "metadata": {},
   "outputs": [],
   "source": [
    "data[\"tweet\"]=data[\"tweet\"].apply(lambda x:\" \".join(x.lower() for x in x.split()))"
   ]
  },
  {
   "cell_type": "code",
   "execution_count": 21,
   "id": "b8741999-4d3f-4c7f-a4a3-5b3d1a3f144b",
   "metadata": {},
   "outputs": [
    {
     "data": {
      "text/plain": [
       "0    #fingerprint #pregnancy test https://goo.gl/h1...\n",
       "1    finally a transparant silicon case ^^ thanks t...\n",
       "2    we love this! would you go? #talk #makememorie...\n",
       "3    i'm wired i know i'm george i was made that wa...\n",
       "4    what amazing service! apple won't even talk to...\n",
       "Name: tweet, dtype: object"
      ]
     },
     "execution_count": 21,
     "metadata": {},
     "output_type": "execute_result"
    }
   ],
   "source": [
    "data[\"tweet\"].head(5)"
   ]
  },
  {
   "cell_type": "markdown",
   "id": "e2f085da-c016-45e6-a5f9-7ec2ddf77445",
   "metadata": {},
   "source": [
    "remove links"
   ]
  },
  {
   "cell_type": "code",
   "execution_count": 22,
   "id": "2f283ac7-6f7a-423b-a6c6-2467e4f2da23",
   "metadata": {},
   "outputs": [],
   "source": [
    "data[\"tweet\"]=data[\"tweet\"].apply(lambda x:\" \".join(re.sub(r'http[s]?://(?:[a-zA-Z]|[0-9]|[$-_@.&+]|[!*\\\\(\\\\),]|(?:%[0-9a-fA-F][0-9a-fA-F]))+', '',x,flags=re.MULTILINE) for x in x.split()))"
   ]
  },
  {
   "cell_type": "code",
   "execution_count": 23,
   "id": "8b845b05-8f9e-4879-88d9-0f4d889cd3da",
   "metadata": {},
   "outputs": [
    {
     "data": {
      "text/plain": [
       "0    #fingerprint #pregnancy test  #android #apps #...\n",
       "1    finally a transparant silicon case ^^ thanks t...\n",
       "2    we love this! would you go? #talk #makememorie...\n",
       "3    i'm wired i know i'm george i was made that wa...\n",
       "4    what amazing service! apple won't even talk to...\n",
       "Name: tweet, dtype: object"
      ]
     },
     "execution_count": 23,
     "metadata": {},
     "output_type": "execute_result"
    }
   ],
   "source": [
    "data[\"tweet\"].head(5)"
   ]
  },
  {
   "cell_type": "markdown",
   "id": "51bda974-fabb-4129-84ba-7d810afa507f",
   "metadata": {},
   "source": [
    "Remove punctuation"
   ]
  },
  {
   "cell_type": "code",
   "execution_count": 24,
   "id": "bdb23994-ed5d-4779-a284-74547e75a95e",
   "metadata": {},
   "outputs": [],
   "source": [
    "def remove_punctuations(text):\n",
    "    for punctuation in string.punctuation:\n",
    "        text=text.replace(punctuation,'')\n",
    "    return text\n",
    "data[\"tweet\"] = data[\"tweet\"].apply(remove_punctuations)    "
   ]
  },
  {
   "cell_type": "code",
   "execution_count": 25,
   "id": "adae4545-1ace-4b2d-a2e1-1d4f4f22d364",
   "metadata": {},
   "outputs": [
    {
     "data": {
      "text/plain": [
       "0    fingerprint pregnancy test  android apps beaut...\n",
       "1    finally a transparant silicon case  thanks to ...\n",
       "2    we love this would you go talk makememories un...\n",
       "3    im wired i know im george i was made that way ...\n",
       "4    what amazing service apple wont even talk to m...\n",
       "Name: tweet, dtype: object"
      ]
     },
     "execution_count": 25,
     "metadata": {},
     "output_type": "execute_result"
    }
   ],
   "source": [
    "data[\"tweet\"].head(5)"
   ]
  },
  {
   "cell_type": "markdown",
   "id": "aea01e58-e353-44fb-ba0a-b5c4a1e4f213",
   "metadata": {},
   "source": [
    "Remove the numbers\n"
   ]
  },
  {
   "cell_type": "code",
   "execution_count": 27,
   "id": "6880d875-45cb-4f32-9355-4ce526fb0f9f",
   "metadata": {},
   "outputs": [],
   "source": [
    "# Remove digits from the 'tweet' column\n",
    "data[\"tweet\"] = data['tweet'].str.replace(r'\\d+', '', regex=True)\n"
   ]
  },
  {
   "cell_type": "code",
   "execution_count": 28,
   "id": "7f2b5b32-87df-460f-b6bb-a6fbf65793e7",
   "metadata": {},
   "outputs": [
    {
     "name": "stdout",
     "output_type": "stream",
     "text": [
      "Collecting nltk\n",
      "  Downloading nltk-3.9.1-py3-none-any.whl.metadata (2.9 kB)\n",
      "Collecting click (from nltk)\n",
      "  Using cached click-8.1.8-py3-none-any.whl.metadata (2.3 kB)\n",
      "Collecting joblib (from nltk)\n",
      "  Downloading joblib-1.4.2-py3-none-any.whl.metadata (5.4 kB)\n",
      "Collecting regex>=2021.8.3 (from nltk)\n",
      "  Downloading regex-2024.11.6-cp313-cp313-win_amd64.whl.metadata (41 kB)\n",
      "Requirement already satisfied: tqdm in c:\\users\\chira\\desktop\\ml\\sentiment_analysis_project-\\env\\lib\\site-packages (from nltk) (4.67.1)\n",
      "Requirement already satisfied: colorama in c:\\users\\chira\\desktop\\ml\\sentiment_analysis_project-\\env\\lib\\site-packages (from click->nltk) (0.4.6)\n",
      "Downloading nltk-3.9.1-py3-none-any.whl (1.5 MB)\n",
      "   ---------------------------------------- 0.0/1.5 MB ? eta -:--:--\n",
      "   ---------------------------------------- 0.0/1.5 MB ? eta -:--:--\n",
      "   ------ --------------------------------- 0.3/1.5 MB ? eta -:--:--\n",
      "   ------ --------------------------------- 0.3/1.5 MB ? eta -:--:--\n",
      "   ------------- -------------------------- 0.5/1.5 MB 905.1 kB/s eta 0:00:02\n",
      "   -------------------- ------------------- 0.8/1.5 MB 1.0 MB/s eta 0:00:01\n",
      "   --------------------------- ------------ 1.0/1.5 MB 971.1 kB/s eta 0:00:01\n",
      "   ---------------------------------- ----- 1.3/1.5 MB 1.1 MB/s eta 0:00:01\n",
      "   ---------------------------------------- 1.5/1.5 MB 1.1 MB/s eta 0:00:00\n",
      "Downloading regex-2024.11.6-cp313-cp313-win_amd64.whl (273 kB)\n",
      "Using cached click-8.1.8-py3-none-any.whl (98 kB)\n",
      "Downloading joblib-1.4.2-py3-none-any.whl (301 kB)\n",
      "Installing collected packages: regex, joblib, click, nltk\n",
      "Successfully installed click-8.1.8 joblib-1.4.2 nltk-3.9.1 regex-2024.11.6\n"
     ]
    },
    {
     "name": "stderr",
     "output_type": "stream",
     "text": [
      "WARNING: Retrying (Retry(total=4, connect=None, read=None, redirect=None, status=None)) after connection broken by 'ProtocolError('Connection aborted.', ConnectionResetError(10054, 'An existing connection was forcibly closed by the remote host', None, 10054, None))': /simple/nltk/\n"
     ]
    }
   ],
   "source": [
    "!pip install nltk"
   ]
  },
  {
   "cell_type": "code",
   "execution_count": 29,
   "id": "53728440-7c93-4fe7-8337-13b7da2d7b31",
   "metadata": {},
   "outputs": [],
   "source": [
    "import nltk"
   ]
  },
  {
   "cell_type": "code",
   "execution_count": 30,
   "id": "eed12667-c864-433b-8b2c-933a963466d0",
   "metadata": {},
   "outputs": [
    {
     "name": "stderr",
     "output_type": "stream",
     "text": [
      "[nltk_data] Downloading package stopwords to ../static/model...\n",
      "[nltk_data]   Unzipping corpora\\stopwords.zip.\n"
     ]
    },
    {
     "data": {
      "text/plain": [
       "True"
      ]
     },
     "execution_count": 30,
     "metadata": {},
     "output_type": "execute_result"
    }
   ],
   "source": [
    "nltk.download('stopwords',download_dir='../static/model')"
   ]
  },
  {
   "cell_type": "code",
   "execution_count": 31,
   "id": "dec3ae62-9654-48a5-bdb4-260d1c1df69e",
   "metadata": {},
   "outputs": [],
   "source": [
    "with open('../static/model/corpora/stopwords/english','r') as file:\n",
    "    sw=file.read().splitlines()"
   ]
  },
  {
   "cell_type": "code",
   "execution_count": 32,
   "id": "ca581691-aba0-46c6-9fe9-b4ed38c0b808",
   "metadata": {},
   "outputs": [
    {
     "data": {
      "text/plain": [
       "['i',\n",
       " 'me',\n",
       " 'my',\n",
       " 'myself',\n",
       " 'we',\n",
       " 'our',\n",
       " 'ours',\n",
       " 'ourselves',\n",
       " 'you',\n",
       " \"you're\",\n",
       " \"you've\",\n",
       " \"you'll\",\n",
       " \"you'd\",\n",
       " 'your',\n",
       " 'yours',\n",
       " 'yourself',\n",
       " 'yourselves',\n",
       " 'he',\n",
       " 'him',\n",
       " 'his',\n",
       " 'himself',\n",
       " 'she',\n",
       " \"she's\",\n",
       " 'her',\n",
       " 'hers',\n",
       " 'herself',\n",
       " 'it',\n",
       " \"it's\",\n",
       " 'its',\n",
       " 'itself',\n",
       " 'they',\n",
       " 'them',\n",
       " 'their',\n",
       " 'theirs',\n",
       " 'themselves',\n",
       " 'what',\n",
       " 'which',\n",
       " 'who',\n",
       " 'whom',\n",
       " 'this',\n",
       " 'that',\n",
       " \"that'll\",\n",
       " 'these',\n",
       " 'those',\n",
       " 'am',\n",
       " 'is',\n",
       " 'are',\n",
       " 'was',\n",
       " 'were',\n",
       " 'be',\n",
       " 'been',\n",
       " 'being',\n",
       " 'have',\n",
       " 'has',\n",
       " 'had',\n",
       " 'having',\n",
       " 'do',\n",
       " 'does',\n",
       " 'did',\n",
       " 'doing',\n",
       " 'a',\n",
       " 'an',\n",
       " 'the',\n",
       " 'and',\n",
       " 'but',\n",
       " 'if',\n",
       " 'or',\n",
       " 'because',\n",
       " 'as',\n",
       " 'until',\n",
       " 'while',\n",
       " 'of',\n",
       " 'at',\n",
       " 'by',\n",
       " 'for',\n",
       " 'with',\n",
       " 'about',\n",
       " 'against',\n",
       " 'between',\n",
       " 'into',\n",
       " 'through',\n",
       " 'during',\n",
       " 'before',\n",
       " 'after',\n",
       " 'above',\n",
       " 'below',\n",
       " 'to',\n",
       " 'from',\n",
       " 'up',\n",
       " 'down',\n",
       " 'in',\n",
       " 'out',\n",
       " 'on',\n",
       " 'off',\n",
       " 'over',\n",
       " 'under',\n",
       " 'again',\n",
       " 'further',\n",
       " 'then',\n",
       " 'once',\n",
       " 'here',\n",
       " 'there',\n",
       " 'when',\n",
       " 'where',\n",
       " 'why',\n",
       " 'how',\n",
       " 'all',\n",
       " 'any',\n",
       " 'both',\n",
       " 'each',\n",
       " 'few',\n",
       " 'more',\n",
       " 'most',\n",
       " 'other',\n",
       " 'some',\n",
       " 'such',\n",
       " 'no',\n",
       " 'nor',\n",
       " 'not',\n",
       " 'only',\n",
       " 'own',\n",
       " 'same',\n",
       " 'so',\n",
       " 'than',\n",
       " 'too',\n",
       " 'very',\n",
       " 's',\n",
       " 't',\n",
       " 'can',\n",
       " 'will',\n",
       " 'just',\n",
       " 'don',\n",
       " \"don't\",\n",
       " 'should',\n",
       " \"should've\",\n",
       " 'now',\n",
       " 'd',\n",
       " 'll',\n",
       " 'm',\n",
       " 'o',\n",
       " 're',\n",
       " 've',\n",
       " 'y',\n",
       " 'ain',\n",
       " 'aren',\n",
       " \"aren't\",\n",
       " 'couldn',\n",
       " \"couldn't\",\n",
       " 'didn',\n",
       " \"didn't\",\n",
       " 'doesn',\n",
       " \"doesn't\",\n",
       " 'hadn',\n",
       " \"hadn't\",\n",
       " 'hasn',\n",
       " \"hasn't\",\n",
       " 'haven',\n",
       " \"haven't\",\n",
       " 'isn',\n",
       " \"isn't\",\n",
       " 'ma',\n",
       " 'mightn',\n",
       " \"mightn't\",\n",
       " 'mustn',\n",
       " \"mustn't\",\n",
       " 'needn',\n",
       " \"needn't\",\n",
       " 'shan',\n",
       " \"shan't\",\n",
       " 'shouldn',\n",
       " \"shouldn't\",\n",
       " 'wasn',\n",
       " \"wasn't\",\n",
       " 'weren',\n",
       " \"weren't\",\n",
       " 'won',\n",
       " \"won't\",\n",
       " 'wouldn',\n",
       " \"wouldn't\"]"
      ]
     },
     "execution_count": 32,
     "metadata": {},
     "output_type": "execute_result"
    }
   ],
   "source": [
    "sw"
   ]
  },
  {
   "cell_type": "code",
   "execution_count": 33,
   "id": "9fd538d4-55e0-4d67-a123-16b631734e87",
   "metadata": {},
   "outputs": [],
   "source": [
    "data[\"tweet\"] = data[\"tweet\"].apply(lambda x: \" \".join(x for x in x.split() if x not in sw))"
   ]
  },
  {
   "cell_type": "markdown",
   "id": "18b62126-1fdf-4fb3-a31e-337ddd658f1b",
   "metadata": {},
   "source": [
    "Stemming"
   ]
  },
  {
   "cell_type": "code",
   "execution_count": 37,
   "id": "788d31f9-170d-4ee0-9cc7-63757d990f8f",
   "metadata": {},
   "outputs": [],
   "source": [
    "from nltk.stem import PorterStemmer\n",
    "ps = PorterStemmer()"
   ]
  },
  {
   "cell_type": "code",
   "execution_count": 38,
   "id": "97bb3dc6-2c4a-45cb-8685-c18c60338435",
   "metadata": {},
   "outputs": [],
   "source": [
    "data[\"tweet\"] = data[\"tweet\"].apply(lambda x: \" \".join([ps.stem(word) for word in x.split()]))"
   ]
  },
  {
   "cell_type": "code",
   "execution_count": 39,
   "id": "be4b6f67-9aa9-4b30-b6a2-9032360cd458",
   "metadata": {},
   "outputs": [
    {
     "data": {
      "text/plain": [
       "0    fingerprint pregnanc test android app beauti c...\n",
       "1    final transpar silicon case thank uncl yay son...\n",
       "2    love would go talk makememori unplug relax iph...\n",
       "3    im wire know im georg made way iphon cute dave...\n",
       "4    amaz servic appl wont even talk question unles...\n",
       "5    iphon softwar updat fuck phone big time stupid...\n",
       "6    happi us instap instadaili us soni xperia xperiaz\n",
       "7    new type c charger cabl uk … bay amazon etsi n...\n",
       "8    bout go shop listen music iphon justm music li...\n",
       "9    photo fun selfi pool water soni camera picofth...\n",
       "Name: tweet, dtype: object"
      ]
     },
     "execution_count": 39,
     "metadata": {},
     "output_type": "execute_result"
    }
   ],
   "source": [
    "data[\"tweet\"].head(10)"
   ]
  },
  {
   "cell_type": "markdown",
   "id": "3096d29d-7a66-44e2-b84d-0f0784c7b677",
   "metadata": {},
   "source": [
    "### Building Vocabulary"
   ]
  },
  {
   "cell_type": "code",
   "execution_count": 42,
   "id": "0346873c-0659-4c60-ab90-c61db6c60ce3",
   "metadata": {},
   "outputs": [],
   "source": [
    "from collections import Counter\n",
    "vocab=Counter()"
   ]
  },
  {
   "cell_type": "code",
   "execution_count": 43,
   "id": "6db4ab73-2332-4b1f-b002-51ea8f53ba07",
   "metadata": {},
   "outputs": [],
   "source": [
    "for sentence in data[\"tweet\"]:\n",
    "    vocab.update(sentence.split())"
   ]
  },
  {
   "cell_type": "code",
   "execution_count": 44,
   "id": "58272881-4fda-423c-8599-33d7ea25591d",
   "metadata": {},
   "outputs": [
    {
     "data": {
      "text/plain": [
       "15908"
      ]
     },
     "execution_count": 44,
     "metadata": {},
     "output_type": "execute_result"
    }
   ],
   "source": [
    "len(vocab)"
   ]
  },
  {
   "cell_type": "code",
   "execution_count": 45,
   "id": "3f973064-e45b-4087-b463-2fc5f0d99d25",
   "metadata": {},
   "outputs": [],
   "source": [
    "tokens=[key for key in vocab if vocab[key]>10]"
   ]
  },
  {
   "cell_type": "code",
   "execution_count": 46,
   "id": "d39ab2dd-6803-4fba-908f-12b18b793565",
   "metadata": {},
   "outputs": [
    {
     "data": {
      "text/plain": [
       "15908"
      ]
     },
     "execution_count": 46,
     "metadata": {},
     "output_type": "execute_result"
    }
   ],
   "source": [
    "len(vocab)"
   ]
  },
  {
   "cell_type": "code",
   "execution_count": 47,
   "id": "b62e8a57-30ab-4383-97ad-cb88f94558a6",
   "metadata": {},
   "outputs": [
    {
     "data": {
      "text/plain": [
       "1146"
      ]
     },
     "execution_count": 47,
     "metadata": {},
     "output_type": "execute_result"
    }
   ],
   "source": [
    "len(tokens)"
   ]
  },
  {
   "cell_type": "code",
   "execution_count": 48,
   "id": "917e06a4-37ca-406c-b776-355d61130469",
   "metadata": {},
   "outputs": [],
   "source": [
    "def save_vocabulary(lines,filename):\n",
    "    data='\\n'.join(lines)\n",
    "    file=open(filename,'w',encoding=\"utf-8\")\n",
    "    file.write(data)\n",
    "    file.close()\n",
    "save_vocabulary(tokens,'../static/model/vocabulary.txt')    "
   ]
  },
  {
   "cell_type": "markdown",
   "id": "ef0e5d81-aa38-4dfd-9e94-153e2ff7b4c5",
   "metadata": {},
   "source": [
    "### Divide dataset"
   ]
  },
  {
   "cell_type": "code",
   "execution_count": 49,
   "id": "048befcd-7d62-4246-91c8-fc531f10957c",
   "metadata": {},
   "outputs": [],
   "source": [
    "X=data['tweet']\n",
    "y=data['label']"
   ]
  },
  {
   "cell_type": "code",
   "execution_count": 50,
   "id": "befc5973-620f-4cb3-9c42-2f2ebe3405c3",
   "metadata": {},
   "outputs": [
    {
     "data": {
      "text/plain": [
       "0       0\n",
       "1       0\n",
       "2       0\n",
       "3       0\n",
       "4       1\n",
       "       ..\n",
       "7915    0\n",
       "7916    0\n",
       "7917    0\n",
       "7918    0\n",
       "7919    0\n",
       "Name: label, Length: 7920, dtype: int64"
      ]
     },
     "execution_count": 50,
     "metadata": {},
     "output_type": "execute_result"
    }
   ],
   "source": [
    "y"
   ]
  },
  {
   "cell_type": "code",
   "execution_count": 51,
   "id": "d22d5378-169c-4106-ac70-06d10c2c1ebe",
   "metadata": {},
   "outputs": [
    {
     "name": "stdout",
     "output_type": "stream",
     "text": [
      "Collecting scikit-learn\n",
      "  Downloading scikit_learn-1.6.1-cp313-cp313-win_amd64.whl.metadata (15 kB)\n",
      "Requirement already satisfied: numpy>=1.19.5 in c:\\users\\chira\\desktop\\ml\\sentiment_analysis_project-\\env\\lib\\site-packages (from scikit-learn) (2.2.1)\n",
      "Collecting scipy>=1.6.0 (from scikit-learn)\n",
      "  Downloading scipy-1.15.1-cp313-cp313-win_amd64.whl.metadata (60 kB)\n",
      "Requirement already satisfied: joblib>=1.2.0 in c:\\users\\chira\\desktop\\ml\\sentiment_analysis_project-\\env\\lib\\site-packages (from scikit-learn) (1.4.2)\n",
      "Collecting threadpoolctl>=3.1.0 (from scikit-learn)\n",
      "  Downloading threadpoolctl-3.5.0-py3-none-any.whl.metadata (13 kB)\n",
      "Downloading scikit_learn-1.6.1-cp313-cp313-win_amd64.whl (11.1 MB)\n",
      "   ---------------------------------------- 0.0/11.1 MB ? eta -:--:--\n",
      "   ---------------------------------------- 0.0/11.1 MB ? eta -:--:--\n",
      "   ---------------------------------------- 0.0/11.1 MB ? eta -:--:--\n",
      "    --------------------------------------- 0.3/11.1 MB ? eta -:--:--\n",
      "   - -------------------------------------- 0.5/11.1 MB 1.0 MB/s eta 0:00:11\n",
      "   -- ------------------------------------- 0.8/11.1 MB 1.0 MB/s eta 0:00:10\n",
      "   --- ------------------------------------ 1.0/11.1 MB 1.1 MB/s eta 0:00:10\n",
      "   ---- ----------------------------------- 1.3/11.1 MB 1.1 MB/s eta 0:00:09\n",
      "   ----- ---------------------------------- 1.6/11.1 MB 1.1 MB/s eta 0:00:09\n",
      "   ----- ---------------------------------- 1.6/11.1 MB 1.1 MB/s eta 0:00:09\n",
      "   ------ --------------------------------- 1.8/11.1 MB 1.0 MB/s eta 0:00:10\n",
      "   ------- -------------------------------- 2.1/11.1 MB 978.3 kB/s eta 0:00:10\n",
      "   ------- -------------------------------- 2.1/11.1 MB 978.3 kB/s eta 0:00:10\n",
      "   ------- -------------------------------- 2.1/11.1 MB 978.3 kB/s eta 0:00:10\n",
      "   ------- -------------------------------- 2.1/11.1 MB 978.3 kB/s eta 0:00:10\n",
      "   -------- ------------------------------- 2.4/11.1 MB 799.1 kB/s eta 0:00:11\n",
      "   -------- ------------------------------- 2.4/11.1 MB 799.1 kB/s eta 0:00:11\n",
      "   -------- ------------------------------- 2.4/11.1 MB 799.1 kB/s eta 0:00:11\n",
      "   --------- ------------------------------ 2.6/11.1 MB 740.5 kB/s eta 0:00:12\n",
      "   --------- ------------------------------ 2.6/11.1 MB 740.5 kB/s eta 0:00:12\n",
      "   ---------- ----------------------------- 2.9/11.1 MB 719.3 kB/s eta 0:00:12\n",
      "   ---------- ----------------------------- 2.9/11.1 MB 719.3 kB/s eta 0:00:12\n",
      "   ----------- ---------------------------- 3.1/11.1 MB 700.9 kB/s eta 0:00:12\n",
      "   ----------- ---------------------------- 3.1/11.1 MB 700.9 kB/s eta 0:00:12\n",
      "   ------------ --------------------------- 3.4/11.1 MB 694.8 kB/s eta 0:00:12\n",
      "   ------------ --------------------------- 3.4/11.1 MB 694.8 kB/s eta 0:00:12\n",
      "   ------------- -------------------------- 3.7/11.1 MB 693.9 kB/s eta 0:00:11\n",
      "   ------------- -------------------------- 3.7/11.1 MB 693.9 kB/s eta 0:00:11\n",
      "   -------------- ------------------------- 3.9/11.1 MB 694.1 kB/s eta 0:00:11\n",
      "   --------------- ------------------------ 4.2/11.1 MB 711.1 kB/s eta 0:00:10\n",
      "   ---------------- ----------------------- 4.5/11.1 MB 727.1 kB/s eta 0:00:10\n",
      "   ----------------- ---------------------- 4.7/11.1 MB 740.9 kB/s eta 0:00:09\n",
      "   ----------------- ---------------------- 5.0/11.1 MB 758.0 kB/s eta 0:00:09\n",
      "   ------------------ --------------------- 5.2/11.1 MB 768.3 kB/s eta 0:00:08\n",
      "   ------------------ --------------------- 5.2/11.1 MB 768.3 kB/s eta 0:00:08\n",
      "   -------------------- ------------------- 5.8/11.1 MB 798.9 kB/s eta 0:00:07\n",
      "   ---------------------- ----------------- 6.3/11.1 MB 852.7 kB/s eta 0:00:06\n",
      "   ----------------------- ---------------- 6.6/11.1 MB 859.5 kB/s eta 0:00:06\n",
      "   ------------------------ --------------- 6.8/11.1 MB 877.4 kB/s eta 0:00:05\n",
      "   ------------------------- -------------- 7.1/11.1 MB 896.7 kB/s eta 0:00:05\n",
      "   -------------------------- ------------- 7.3/11.1 MB 890.4 kB/s eta 0:00:05\n",
      "   --------------------------- ------------ 7.6/11.1 MB 906.9 kB/s eta 0:00:04\n",
      "   ---------------------------- ----------- 7.9/11.1 MB 903.7 kB/s eta 0:00:04\n",
      "   ---------------------------- ----------- 7.9/11.1 MB 903.7 kB/s eta 0:00:04\n",
      "   ----------------------------- ---------- 8.1/11.1 MB 906.7 kB/s eta 0:00:04\n",
      "   ------------------------------ --------- 8.4/11.1 MB 914.6 kB/s eta 0:00:03\n",
      "   ------------------------------ --------- 8.4/11.1 MB 914.6 kB/s eta 0:00:03\n",
      "   --------------------------------- ------ 9.2/11.1 MB 943.7 kB/s eta 0:00:03\n",
      "   ---------------------------------- ----- 9.4/11.1 MB 961.3 kB/s eta 0:00:02\n",
      "   ------------------------------------ --- 10.2/11.1 MB 1.0 MB/s eta 0:00:01\n",
      "   ------------------------------------- -- 10.5/11.1 MB 1.0 MB/s eta 0:00:01\n",
      "   ---------------------------------------- 11.1/11.1 MB 1.1 MB/s eta 0:00:00\n",
      "Downloading scipy-1.15.1-cp313-cp313-win_amd64.whl (43.6 MB)\n",
      "   ---------------------------------------- 0.0/43.6 MB ? eta -:--:--\n",
      "   ---------------------------------------- 0.5/43.6 MB 3.8 MB/s eta 0:00:12\n",
      "    --------------------------------------- 1.0/43.6 MB 3.5 MB/s eta 0:00:13\n",
      "   - -------------------------------------- 1.6/43.6 MB 2.9 MB/s eta 0:00:15\n",
      "   -- ------------------------------------- 2.4/43.6 MB 2.9 MB/s eta 0:00:15\n",
      "   -- ------------------------------------- 2.6/43.6 MB 2.9 MB/s eta 0:00:15\n",
      "   -- ------------------------------------- 3.1/43.6 MB 2.6 MB/s eta 0:00:16\n",
      "   -- ------------------------------------- 3.1/43.6 MB 2.6 MB/s eta 0:00:16\n",
      "   --- ------------------------------------ 3.7/43.6 MB 2.2 MB/s eta 0:00:19\n",
      "   --- ------------------------------------ 3.9/43.6 MB 2.1 MB/s eta 0:00:19\n",
      "   --- ------------------------------------ 4.2/43.6 MB 2.1 MB/s eta 0:00:19\n",
      "   ---- ----------------------------------- 4.5/43.6 MB 2.0 MB/s eta 0:00:20\n",
      "   ---- ----------------------------------- 4.5/43.6 MB 2.0 MB/s eta 0:00:20\n",
      "   ---- ----------------------------------- 4.7/43.6 MB 1.7 MB/s eta 0:00:23\n",
      "   ---- ----------------------------------- 5.0/43.6 MB 1.7 MB/s eta 0:00:24\n",
      "   ---- ----------------------------------- 5.0/43.6 MB 1.7 MB/s eta 0:00:24\n",
      "   ---- ----------------------------------- 5.0/43.6 MB 1.7 MB/s eta 0:00:24\n",
      "   ---- ----------------------------------- 5.0/43.6 MB 1.7 MB/s eta 0:00:24\n",
      "   ----- ---------------------------------- 5.5/43.6 MB 1.5 MB/s eta 0:00:26\n",
      "   ----- ---------------------------------- 6.0/43.6 MB 1.5 MB/s eta 0:00:25\n",
      "   ------ --------------------------------- 6.8/43.6 MB 1.6 MB/s eta 0:00:23\n",
      "   ------ --------------------------------- 7.3/43.6 MB 1.6 MB/s eta 0:00:23\n",
      "   ------- -------------------------------- 7.9/43.6 MB 1.7 MB/s eta 0:00:22\n",
      "   ------- -------------------------------- 8.7/43.6 MB 1.8 MB/s eta 0:00:20\n",
      "   -------- ------------------------------- 9.2/43.6 MB 1.8 MB/s eta 0:00:19\n",
      "   --------- ------------------------------ 10.0/43.6 MB 1.9 MB/s eta 0:00:18\n",
      "   --------- ------------------------------ 10.7/43.6 MB 2.0 MB/s eta 0:00:17\n",
      "   ---------- ----------------------------- 11.5/43.6 MB 2.0 MB/s eta 0:00:16\n",
      "   ----------- ---------------------------- 12.3/43.6 MB 2.1 MB/s eta 0:00:15\n",
      "   ------------ --------------------------- 13.1/43.6 MB 2.2 MB/s eta 0:00:15\n",
      "   ------------ --------------------------- 13.6/43.6 MB 2.2 MB/s eta 0:00:14\n",
      "   ------------- -------------------------- 14.4/43.6 MB 2.2 MB/s eta 0:00:14\n",
      "   ------------- -------------------------- 15.2/43.6 MB 2.3 MB/s eta 0:00:13\n",
      "   -------------- ------------------------- 15.7/43.6 MB 2.3 MB/s eta 0:00:13\n",
      "   -------------- ------------------------- 16.0/43.6 MB 2.3 MB/s eta 0:00:13\n",
      "   --------------- ------------------------ 16.5/43.6 MB 2.3 MB/s eta 0:00:12\n",
      "   --------------- ------------------------ 17.0/43.6 MB 2.3 MB/s eta 0:00:12\n",
      "   ---------------- ----------------------- 17.6/43.6 MB 2.3 MB/s eta 0:00:12\n",
      "   ---------------- ----------------------- 18.1/43.6 MB 2.3 MB/s eta 0:00:12\n",
      "   ----------------- ---------------------- 18.6/43.6 MB 2.3 MB/s eta 0:00:11\n",
      "   ----------------- ---------------------- 18.9/43.6 MB 2.3 MB/s eta 0:00:11\n",
      "   ----------------- ---------------------- 18.9/43.6 MB 2.3 MB/s eta 0:00:11\n",
      "   ----------------- ---------------------- 18.9/43.6 MB 2.3 MB/s eta 0:00:11\n",
      "   ----------------- ---------------------- 19.1/43.6 MB 2.1 MB/s eta 0:00:12\n",
      "   ----------------- ---------------------- 19.1/43.6 MB 2.1 MB/s eta 0:00:12\n",
      "   ----------------- ---------------------- 19.1/43.6 MB 2.1 MB/s eta 0:00:12\n",
      "   ----------------- ---------------------- 19.1/43.6 MB 2.1 MB/s eta 0:00:12\n",
      "   ----------------- ---------------------- 19.1/43.6 MB 2.1 MB/s eta 0:00:12\n",
      "   ----------------- ---------------------- 19.1/43.6 MB 2.1 MB/s eta 0:00:12\n",
      "   ----------------- ---------------------- 19.1/43.6 MB 2.1 MB/s eta 0:00:12\n",
      "   ----------------- ---------------------- 19.1/43.6 MB 2.1 MB/s eta 0:00:12\n",
      "   ----------------- ---------------------- 19.1/43.6 MB 2.1 MB/s eta 0:00:12\n",
      "   ------------------ --------------------- 20.2/43.6 MB 1.9 MB/s eta 0:00:13\n",
      "   ------------------ --------------------- 20.2/43.6 MB 1.9 MB/s eta 0:00:13\n",
      "   ------------------ --------------------- 20.2/43.6 MB 1.9 MB/s eta 0:00:13\n",
      "   ------------------- -------------------- 21.0/43.6 MB 1.8 MB/s eta 0:00:13\n",
      "   ------------------- -------------------- 21.2/43.6 MB 1.8 MB/s eta 0:00:13\n",
      "   ------------------- -------------------- 21.5/43.6 MB 1.8 MB/s eta 0:00:13\n",
      "   ------------------- -------------------- 21.8/43.6 MB 1.8 MB/s eta 0:00:13\n",
      "   -------------------- ------------------- 22.0/43.6 MB 1.8 MB/s eta 0:00:13\n",
      "   -------------------- ------------------- 22.3/43.6 MB 1.8 MB/s eta 0:00:13\n",
      "   -------------------- ------------------- 22.5/43.6 MB 1.8 MB/s eta 0:00:12\n",
      "   -------------------- ------------------- 22.5/43.6 MB 1.8 MB/s eta 0:00:12\n",
      "   -------------------- ------------------- 22.8/43.6 MB 1.7 MB/s eta 0:00:12\n",
      "   --------------------- ------------------ 23.1/43.6 MB 1.7 MB/s eta 0:00:12\n",
      "   --------------------- ------------------ 23.6/43.6 MB 1.7 MB/s eta 0:00:12\n",
      "   ---------------------- ----------------- 24.1/43.6 MB 1.7 MB/s eta 0:00:12\n",
      "   ---------------------- ----------------- 24.6/43.6 MB 1.8 MB/s eta 0:00:11\n",
      "   ----------------------- ---------------- 25.4/43.6 MB 1.8 MB/s eta 0:00:11\n",
      "   ----------------------- ---------------- 25.7/43.6 MB 1.8 MB/s eta 0:00:11\n",
      "   ----------------------- ---------------- 26.0/43.6 MB 1.8 MB/s eta 0:00:10\n",
      "   ------------------------ --------------- 26.2/43.6 MB 1.8 MB/s eta 0:00:10\n",
      "   ------------------------ --------------- 26.5/43.6 MB 1.8 MB/s eta 0:00:10\n",
      "   ------------------------ --------------- 26.7/43.6 MB 1.7 MB/s eta 0:00:10\n",
      "   ------------------------ --------------- 26.7/43.6 MB 1.7 MB/s eta 0:00:10\n",
      "   ------------------------ --------------- 27.0/43.6 MB 1.7 MB/s eta 0:00:10\n",
      "   ------------------------ --------------- 27.0/43.6 MB 1.7 MB/s eta 0:00:10\n",
      "   ------------------------ --------------- 27.3/43.6 MB 1.7 MB/s eta 0:00:10\n",
      "   ------------------------ --------------- 27.3/43.6 MB 1.7 MB/s eta 0:00:10\n",
      "   ------------------------- -------------- 27.5/43.6 MB 1.7 MB/s eta 0:00:10\n",
      "   ------------------------- -------------- 27.5/43.6 MB 1.7 MB/s eta 0:00:10\n",
      "   ------------------------- -------------- 27.8/43.6 MB 1.6 MB/s eta 0:00:10\n",
      "   ------------------------- -------------- 27.8/43.6 MB 1.6 MB/s eta 0:00:10\n",
      "   ------------------------- -------------- 28.0/43.6 MB 1.6 MB/s eta 0:00:10\n",
      "   ------------------------- -------------- 28.0/43.6 MB 1.6 MB/s eta 0:00:10\n",
      "   ------------------------- -------------- 28.3/43.6 MB 1.6 MB/s eta 0:00:10\n",
      "   ------------------------- -------------- 28.3/43.6 MB 1.6 MB/s eta 0:00:10\n",
      "   -------------------------- ------------- 28.6/43.6 MB 1.6 MB/s eta 0:00:10\n",
      "   -------------------------- ------------- 28.8/43.6 MB 1.6 MB/s eta 0:00:10\n",
      "   -------------------------- ------------- 29.1/43.6 MB 1.6 MB/s eta 0:00:10\n",
      "   --------------------------- ------------ 29.6/43.6 MB 1.6 MB/s eta 0:00:09\n",
      "   --------------------------- ------------ 29.6/43.6 MB 1.6 MB/s eta 0:00:09\n",
      "   --------------------------- ------------ 29.9/43.6 MB 1.5 MB/s eta 0:00:09\n",
      "   --------------------------- ------------ 30.1/43.6 MB 1.5 MB/s eta 0:00:09\n",
      "   --------------------------- ------------ 30.4/43.6 MB 1.5 MB/s eta 0:00:09\n",
      "   ---------------------------- ----------- 30.7/43.6 MB 1.5 MB/s eta 0:00:09\n",
      "   ---------------------------- ----------- 30.9/43.6 MB 1.5 MB/s eta 0:00:09\n",
      "   ---------------------------- ----------- 31.2/43.6 MB 1.5 MB/s eta 0:00:09\n",
      "   ---------------------------- ----------- 31.5/43.6 MB 1.5 MB/s eta 0:00:08\n",
      "   ----------------------------- ---------- 32.0/43.6 MB 1.5 MB/s eta 0:00:08\n",
      "   ----------------------------- ---------- 32.5/43.6 MB 1.5 MB/s eta 0:00:08\n",
      "   ------------------------------ --------- 33.3/43.6 MB 1.6 MB/s eta 0:00:07\n",
      "   ------------------------------ --------- 33.6/43.6 MB 1.6 MB/s eta 0:00:07\n",
      "   ------------------------------- -------- 34.1/43.6 MB 1.6 MB/s eta 0:00:07\n",
      "   ------------------------------- -------- 34.3/43.6 MB 1.6 MB/s eta 0:00:06\n",
      "   ------------------------------- -------- 34.6/43.6 MB 1.6 MB/s eta 0:00:06\n",
      "   ------------------------------- -------- 34.6/43.6 MB 1.6 MB/s eta 0:00:06\n",
      "   ------------------------------- -------- 34.9/43.6 MB 1.6 MB/s eta 0:00:06\n",
      "   -------------------------------- ------- 35.1/43.6 MB 1.5 MB/s eta 0:00:06\n",
      "   -------------------------------- ------- 35.4/43.6 MB 1.5 MB/s eta 0:00:06\n",
      "   -------------------------------- ------- 35.9/43.6 MB 1.6 MB/s eta 0:00:05\n",
      "   --------------------------------- ------ 36.4/43.6 MB 1.6 MB/s eta 0:00:05\n",
      "   --------------------------------- ------ 37.0/43.6 MB 1.6 MB/s eta 0:00:05\n",
      "   ---------------------------------- ----- 37.5/43.6 MB 1.6 MB/s eta 0:00:04\n",
      "   ---------------------------------- ----- 37.7/43.6 MB 1.6 MB/s eta 0:00:04\n",
      "   ---------------------------------- ----- 38.0/43.6 MB 1.6 MB/s eta 0:00:04\n",
      "   ----------------------------------- ---- 38.5/43.6 MB 1.6 MB/s eta 0:00:04\n",
      "   ----------------------------------- ---- 39.1/43.6 MB 1.6 MB/s eta 0:00:03\n",
      "   ------------------------------------ --- 39.6/43.6 MB 1.6 MB/s eta 0:00:03\n",
      "   ------------------------------------- -- 40.4/43.6 MB 1.6 MB/s eta 0:00:03\n",
      "   ------------------------------------- -- 40.9/43.6 MB 1.6 MB/s eta 0:00:02\n",
      "   ------------------------------------- -- 41.2/43.6 MB 1.6 MB/s eta 0:00:02\n",
      "   ------------------------------------- -- 41.4/43.6 MB 1.6 MB/s eta 0:00:02\n",
      "   -------------------------------------- - 41.9/43.6 MB 1.6 MB/s eta 0:00:02\n",
      "   -------------------------------------- - 42.2/43.6 MB 1.6 MB/s eta 0:00:01\n",
      "   -------------------------------------- - 42.5/43.6 MB 1.6 MB/s eta 0:00:01\n",
      "   ---------------------------------------  42.7/43.6 MB 1.6 MB/s eta 0:00:01\n",
      "   ---------------------------------------  43.0/43.6 MB 1.6 MB/s eta 0:00:01\n",
      "   ---------------------------------------  43.0/43.6 MB 1.6 MB/s eta 0:00:01\n",
      "   ---------------------------------------  43.0/43.6 MB 1.6 MB/s eta 0:00:01\n",
      "   ---------------------------------------  43.3/43.6 MB 1.6 MB/s eta 0:00:01\n",
      "   ---------------------------------------  43.3/43.6 MB 1.6 MB/s eta 0:00:01\n",
      "   ---------------------------------------  43.5/43.6 MB 1.6 MB/s eta 0:00:01\n",
      "   ---------------------------------------- 43.6/43.6 MB 1.6 MB/s eta 0:00:00\n",
      "Downloading threadpoolctl-3.5.0-py3-none-any.whl (18 kB)\n",
      "Installing collected packages: threadpoolctl, scipy, scikit-learn\n",
      "Successfully installed scikit-learn-1.6.1 scipy-1.15.1 threadpoolctl-3.5.0\n"
     ]
    }
   ],
   "source": [
    "!pip install scikit-learn"
   ]
  },
  {
   "cell_type": "code",
   "execution_count": 55,
   "id": "c14c5c78-35b2-46f3-afad-27fc9d7c1829",
   "metadata": {},
   "outputs": [],
   "source": [
    "from sklearn.model_selection import train_test_split\n",
    "X_train,X_test,y_train,y_test = train_test_split(X,y,test_size=0.2)"
   ]
  },
  {
   "cell_type": "code",
   "execution_count": 56,
   "id": "3c93d65b-a69c-40fa-845f-1101555fcb74",
   "metadata": {},
   "outputs": [
    {
     "data": {
      "text/plain": [
       "(6336,)"
      ]
     },
     "execution_count": 56,
     "metadata": {},
     "output_type": "execute_result"
    }
   ],
   "source": [
    "X_train.shape"
   ]
  },
  {
   "cell_type": "code",
   "execution_count": 57,
   "id": "d2b56380-737a-47cc-9789-5f15799cbe33",
   "metadata": {},
   "outputs": [
    {
     "data": {
      "text/plain": [
       "(1584,)"
      ]
     },
     "execution_count": 57,
     "metadata": {},
     "output_type": "execute_result"
    }
   ],
   "source": [
    "X_test.shape"
   ]
  },
  {
   "cell_type": "markdown",
   "id": "4139e3ee-8693-4fe6-9379-69804ea20204",
   "metadata": {},
   "source": [
    "### Vectorization"
   ]
  },
  {
   "cell_type": "code",
   "execution_count": 58,
   "id": "930f3056-b173-429c-bea3-04bd1ecb8be1",
   "metadata": {},
   "outputs": [],
   "source": [
    "def vectorizer(ds, vocabulary):\n",
    "    vectorized_lst = []\n",
    "    \n",
    "    for sentence in ds:\n",
    "        sentence_lst = np.zeros(len(vocabulary))\n",
    "        \n",
    "        for i in range(len(vocabulary)):\n",
    "            if vocabulary[i] in sentence.split():\n",
    "                sentence_lst[i] = 1\n",
    "                \n",
    "        vectorized_lst.append(sentence_lst)\n",
    "        \n",
    "    vectorized_lst_new = np.asarray(vectorized_lst, dtype=np.float32)\n",
    "    \n",
    "    return vectorized_lst_new"
   ]
  },
  {
   "cell_type": "code",
   "execution_count": 59,
   "id": "cc13460a-fea6-4d1f-ab5b-2d8f9eb0e015",
   "metadata": {},
   "outputs": [],
   "source": [
    "vectorized_x_train=vectorizer(X_train,tokens)"
   ]
  },
  {
   "cell_type": "code",
   "execution_count": 60,
   "id": "9957a0f7-407f-42df-bb6f-103638a59053",
   "metadata": {},
   "outputs": [
    {
     "data": {
      "text/plain": [
       "array([[0., 0., 0., ..., 0., 0., 0.],\n",
       "       [0., 0., 0., ..., 0., 0., 0.],\n",
       "       [0., 0., 0., ..., 0., 0., 0.],\n",
       "       ...,\n",
       "       [0., 0., 0., ..., 0., 0., 0.],\n",
       "       [0., 0., 0., ..., 0., 0., 0.],\n",
       "       [0., 0., 0., ..., 0., 0., 0.]], shape=(6336, 1146), dtype=float32)"
      ]
     },
     "execution_count": 60,
     "metadata": {},
     "output_type": "execute_result"
    }
   ],
   "source": [
    "vectorized_x_train"
   ]
  },
  {
   "cell_type": "code",
   "execution_count": 61,
   "id": "83fc7e73-7657-451c-be2b-008d8b3501eb",
   "metadata": {},
   "outputs": [],
   "source": [
    "vectorized_x_test=vectorizer(X_test,tokens)"
   ]
  },
  {
   "cell_type": "code",
   "execution_count": 63,
   "id": "0428853b-b90a-4fd2-993d-53b45e2ec218",
   "metadata": {},
   "outputs": [
    {
     "data": {
      "text/plain": [
       "label\n",
       "0    4734\n",
       "1    1602\n",
       "Name: count, dtype: int64"
      ]
     },
     "execution_count": 63,
     "metadata": {},
     "output_type": "execute_result"
    }
   ],
   "source": [
    "y_train.value_counts()"
   ]
  },
  {
   "cell_type": "code",
   "execution_count": 64,
   "id": "48b887eb-67ea-47f8-b139-e6e7c937d5a6",
   "metadata": {},
   "outputs": [
    {
     "data": {
      "image/png": "[encoded data removed]",
      "text/plain": [
       "<Figure size 640x480 with 1 Axes>"
      ]
     },
     "metadata": {},
     "output_type": "display_data"
    }
   ],
   "source": [
    "plt.pie(np.array([y_train.value_counts()[0], y_train.value_counts()[1]]), labels=['Positive', 'Negative'])\n",
    "plt.show()"
   ]
  },
  {
   "cell_type": "markdown",
   "id": "cc74be6e-5494-4b80-8263-484e13baa29d",
   "metadata": {},
   "source": [
    "### Handle inbalanced dataset"
   ]
  },
  {
   "cell_type": "code",
   "execution_count": 66,
   "id": "e19164e6-57b8-4cf1-8fa9-f2fbdbc4ff22",
   "metadata": {},
   "outputs": [
    {
     "name": "stdout",
     "output_type": "stream",
     "text": [
      "Collecting imbalanced-learn\n",
      "  Downloading imbalanced_learn-0.13.0-py3-none-any.whl.metadata (8.8 kB)\n",
      "Requirement already satisfied: numpy<3,>=1.24.3 in c:\\users\\chira\\desktop\\ml\\sentiment_analysis_project-\\env\\lib\\site-packages (from imbalanced-learn) (2.2.1)\n",
      "Requirement already satisfied: scipy<2,>=1.10.1 in c:\\users\\chira\\desktop\\ml\\sentiment_analysis_project-\\env\\lib\\site-packages (from imbalanced-learn) (1.15.1)\n",
      "Requirement already satisfied: scikit-learn<2,>=1.3.2 in c:\\users\\chira\\desktop\\ml\\sentiment_analysis_project-\\env\\lib\\site-packages (from imbalanced-learn) (1.6.1)\n",
      "Collecting sklearn-compat<1,>=0.1 (from imbalanced-learn)\n",
      "  Downloading sklearn_compat-0.1.3-py3-none-any.whl.metadata (18 kB)\n",
      "Requirement already satisfied: joblib<2,>=1.1.1 in c:\\users\\chira\\desktop\\ml\\sentiment_analysis_project-\\env\\lib\\site-packages (from imbalanced-learn) (1.4.2)\n",
      "Requirement already satisfied: threadpoolctl<4,>=2.0.0 in c:\\users\\chira\\desktop\\ml\\sentiment_analysis_project-\\env\\lib\\site-packages (from imbalanced-learn) (3.5.0)\n",
      "Downloading imbalanced_learn-0.13.0-py3-none-any.whl (238 kB)\n",
      "Downloading sklearn_compat-0.1.3-py3-none-any.whl (18 kB)\n",
      "Installing collected packages: sklearn-compat, imbalanced-learn\n",
      "Successfully installed imbalanced-learn-0.13.0 sklearn-compat-0.1.3\n"
     ]
    }
   ],
   "source": [
    "!pip install imbalanced-learn"
   ]
  },
  {
   "cell_type": "code",
   "execution_count": 67,
   "id": "7f70dd6b-34c0-4e71-8f76-6742c075f1ad",
   "metadata": {},
   "outputs": [
    {
     "name": "stdout",
     "output_type": "stream",
     "text": [
      "(9468, 1146) (9468,)\n"
     ]
    }
   ],
   "source": [
    "from imblearn.over_sampling import SMOTE\n",
    "smote = SMOTE()\n",
    "vectorized_x_train_smote, y_train_smote = smote.fit_resample(vectorized_x_train, y_train)\n",
    "print(vectorized_x_train_smote.shape, y_train_smote.shape)"
   ]
  },
  {
   "cell_type": "code",
   "execution_count": 68,
   "id": "2b98c234-d295-4e93-97ef-6cedfe9a4afc",
   "metadata": {},
   "outputs": [
    {
     "data": {
      "text/plain": [
       "label\n",
       "1    4734\n",
       "0    4734\n",
       "Name: count, dtype: int64"
      ]
     },
     "execution_count": 68,
     "metadata": {},
     "output_type": "execute_result"
    }
   ],
   "source": [
    "y_train_smote.value_counts()\n"
   ]
  },
  {
   "cell_type": "code",
   "execution_count": 69,
   "id": "8e7fccdf-cdcb-4c25-aa40-613076678ce3",
   "metadata": {},
   "outputs": [
    {
     "data": {
      "image/png": "[encoded data removed]",
      "text/plain": [
       "<Figure size 640x480 with 1 Axes>"
      ]
     },
     "metadata": {},
     "output_type": "display_data"
    }
   ],
   "source": [
    "plt.pie(np.array([y_train_smote.value_counts()[0], y_train_smote.value_counts()[1]]), labels=['Positive', 'Negative'])\n",
    "plt.show()"
   ]
  },
  {
   "cell_type": "markdown",
   "id": "aedea75b-adf7-46ba-ae9d-137ff99e0ffa",
   "metadata": {},
   "source": [
    "## Model Building and Evaluation"
   ]
  },
  {
   "cell_type": "code",
   "execution_count": 70,
   "id": "62872765-8daa-4c94-8e89-e309ab073124",
   "metadata": {},
   "outputs": [],
   "source": [
    "from sklearn.linear_model import LogisticRegression\n",
    "from sklearn.naive_bayes import MultinomialNB\n",
    "from sklearn.tree import DecisionTreeClassifier\n",
    "from sklearn.ensemble import RandomForestClassifier\n",
    "from sklearn.svm import SVC"
   ]
  },
  {
   "cell_type": "code",
   "execution_count": 71,
   "id": "e51ffa7b-d941-45af-8ce5-d36ba89f36c7",
   "metadata": {},
   "outputs": [],
   "source": [
    "from sklearn.metrics import accuracy_score, f1_score, precision_score, recall_score\n",
    "\n",
    "def training_scores(y_act, y_pred):\n",
    "    acc = round(accuracy_score(y_act, y_pred), 3)\n",
    "    pr = round(precision_score(y_act, y_pred), 3)\n",
    "    rec = round(recall_score(y_act, y_pred), 3)\n",
    "    f1 = round(f1_score(y_act, y_pred), 3)\n",
    "    print(f'Training Scores:\\n\\tAccuracy = {acc}\\n\\tPrecision = {pr}\\n\\tRecall = {rec}\\n\\tF1-Score = {f1}')\n",
    "    \n",
    "def validation_scores(y_act, y_pred):\n",
    "    acc = round(accuracy_score(y_act, y_pred), 3)\n",
    "    pr = round(precision_score(y_act, y_pred), 3)\n",
    "    rec = round(recall_score(y_act, y_pred), 3)\n",
    "    f1 = round(f1_score(y_act, y_pred), 3)\n",
    "    print(f'Testing Scores:\\n\\tAccuracy = {acc}\\n\\tPrecision = {pr}\\n\\tRecall = {rec}\\n\\tF1-Score = {f1}')"
   ]
  },
  {
   "cell_type": "markdown",
   "id": "c2dee44f-6768-4b6a-b823-9b367724c415",
   "metadata": {},
   "source": [
    "### Logistic Regression"
   ]
  },
  {
   "cell_type": "code",
   "execution_count": 72,
   "id": "f1a9277c-f8c8-47ac-9bc4-54b67a8da41e",
   "metadata": {},
   "outputs": [
    {
     "data": {
      "text/html": [
       "<style>#sk-container-id-1 {\n",
       "  /* Definition of color scheme common for light and dark mode */\n",
       "  --sklearn-color-text: #000;\n",
       "  --sklearn-color-text-muted: #666;\n",
       "  --sklearn-color-line: gray;\n",
       "  /* Definition of color scheme for unfitted estimators */\n",
       "  --sklearn-color-unfitted-level-0: #fff5e6;\n",
       "  --sklearn-color-unfitted-level-1: #f6e4d2;\n",
       "  --sklearn-color-unfitted-level-2: #ffe0b3;\n",
       "  --sklearn-color-unfitted-level-3: chocolate;\n",
       "  /* Definition of color scheme for fitted estimators */\n",
       "  --sklearn-color-fitted-level-0: #f0f8ff;\n",
       "  --sklearn-color-fitted-level-1: #d4ebff;\n",
       "  --sklearn-color-fitted-level-2: #b3dbfd;\n",
       "  --sklearn-color-fitted-level-3: cornflowerblue;\n",
       "\n",
       "  /* Specific color for light theme */\n",
       "  --sklearn-color-text-on-default-background: var(--sg-text-color, var(--theme-code-foreground, var(--jp-content-font-color1, black)));\n",
       "  --sklearn-color-background: var(--sg-background-color, var(--theme-background, var(--jp-layout-color0, white)));\n",
       "  --sklearn-color-border-box: var(--sg-text-color, var(--theme-code-foreground, var(--jp-content-font-color1, black)));\n",
       "  --sklearn-color-icon: #696969;\n",
       "\n",
       "  @media (prefers-color-scheme: dark) {\n",
       "    /* Redefinition of color scheme for dark theme */\n",
       "    --sklearn-color-text-on-default-background: var(--sg-text-color, var(--theme-code-foreground, var(--jp-content-font-color1, white)));\n",
       "    --sklearn-color-background: var(--sg-background-color, var(--theme-background, var(--jp-layout-color0, #111)));\n",
       "    --sklearn-color-border-box: var(--sg-text-color, var(--theme-code-foreground, var(--jp-content-font-color1, white)));\n",
       "    --sklearn-color-icon: #878787;\n",
       "  }\n",
       "}\n",
       "\n",
       "#sk-container-id-1 {\n",
       "  color: var(--sklearn-color-text);\n",
       "}\n",
       "\n",
       "#sk-container-id-1 pre {\n",
       "  padding: 0;\n",
       "}\n",
       "\n",
       "#sk-container-id-1 input.sk-hidden--visually {\n",
       "  border: 0;\n",
       "  clip: rect(1px 1px 1px 1px);\n",
       "  clip: rect(1px, 1px, 1px, 1px);\n",
       "  height: 1px;\n",
       "  margin: -1px;\n",
       "  overflow: hidden;\n",
       "  padding: 0;\n",
       "  position: absolute;\n",
       "  width: 1px;\n",
       "}\n",
       "\n",
       "#sk-container-id-1 div.sk-dashed-wrapped {\n",
       "  border: 1px dashed var(--sklearn-color-line);\n",
       "  margin: 0 0.4em 0.5em 0.4em;\n",
       "  box-sizing: border-box;\n",
       "  padding-bottom: 0.4em;\n",
       "  background-color: var(--sklearn-color-background);\n",
       "}\n",
       "\n",
       "#sk-container-id-1 div.sk-container {\n",
       "  /* jupyter's `normalize.less` sets `[hidden] { display: none; }`\n",
       "     but bootstrap.min.css set `[hidden] { display: none !important; }`\n",
       "     so we also need the `!important` here to be able to override the\n",
       "     default hidden behavior on the sphinx rendered scikit-learn.org.\n",
       "     See: https://github.com/scikit-learn/scikit-learn/issues/21755 */\n",
       "  display: inline-block !important;\n",
       "  position: relative;\n",
       "}\n",
       "\n",
       "#sk-container-id-1 div.sk-text-repr-fallback {\n",
       "  display: none;\n",
       "}\n",
       "\n",
       "div.sk-parallel-item,\n",
       "div.sk-serial,\n",
       "div.sk-item {\n",
       "  /* draw centered vertical line to link estimators */\n",
       "  background-image: linear-gradient(var(--sklearn-color-text-on-default-background), var(--sklearn-color-text-on-default-background));\n",
       "  background-size: 2px 100%;\n",
       "  background-repeat: no-repeat;\n",
       "  background-position: center center;\n",
       "}\n",
       "\n",
       "/* Parallel-specific style estimator block */\n",
       "\n",
       "#sk-container-id-1 div.sk-parallel-item::after {\n",
       "  content: \"\";\n",
       "  width: 100%;\n",
       "  border-bottom: 2px solid var(--sklearn-color-text-on-default-background);\n",
       "  flex-grow: 1;\n",
       "}\n",
       "\n",
       "#sk-container-id-1 div.sk-parallel {\n",
       "  display: flex;\n",
       "  align-items: stretch;\n",
       "  justify-content: center;\n",
       "  background-color: var(--sklearn-color-background);\n",
       "  position: relative;\n",
       "}\n",
       "\n",
       "#sk-container-id-1 div.sk-parallel-item {\n",
       "  display: flex;\n",
       "  flex-direction: column;\n",
       "}\n",
       "\n",
       "#sk-container-id-1 div.sk-parallel-item:first-child::after {\n",
       "  align-self: flex-end;\n",
       "  width: 50%;\n",
       "}\n",
       "\n",
       "#sk-container-id-1 div.sk-parallel-item:last-child::after {\n",
       "  align-self: flex-start;\n",
       "  width: 50%;\n",
       "}\n",
       "\n",
       "#sk-container-id-1 div.sk-parallel-item:only-child::after {\n",
       "  width: 0;\n",
       "}\n",
       "\n",
       "/* Serial-specific style estimator block */\n",
       "\n",
       "#sk-container-id-1 div.sk-serial {\n",
       "  display: flex;\n",
       "  flex-direction: column;\n",
       "  align-items: center;\n",
       "  background-color: var(--sklearn-color-background);\n",
       "  padding-right: 1em;\n",
       "  padding-left: 1em;\n",
       "}\n",
       "\n",
       "\n",
       "/* Toggleable style: style used for estimator/Pipeline/ColumnTransformer box that is\n",
       "clickable and can be expanded/collapsed.\n",
       "- Pipeline and ColumnTransformer use this feature and define the default style\n",
       "- Estimators will overwrite some part of the style using the `sk-estimator` class\n",
       "*/\n",
       "\n",
       "/* Pipeline and ColumnTransformer style (default) */\n",
       "\n",
       "#sk-container-id-1 div.sk-toggleable {\n",
       "  /* Default theme specific background. It is overwritten whether we have a\n",
       "  specific estimator or a Pipeline/ColumnTransformer */\n",
       "  background-color: var(--sklearn-color-background);\n",
       "}\n",
       "\n",
       "/* Toggleable label */\n",
       "#sk-container-id-1 label.sk-toggleable__label {\n",
       "  cursor: pointer;\n",
       "  display: flex;\n",
       "  width: 100%;\n",
       "  margin-bottom: 0;\n",
       "  padding: 0.5em;\n",
       "  box-sizing: border-box;\n",
       "  text-align: center;\n",
       "  align-items: start;\n",
       "  justify-content: space-between;\n",
       "  gap: 0.5em;\n",
       "}\n",
       "\n",
       "#sk-container-id-1 label.sk-toggleable__label .caption {\n",
       "  font-size: 0.6rem;\n",
       "  font-weight: lighter;\n",
       "  color: var(--sklearn-color-text-muted);\n",
       "}\n",
       "\n",
       "#sk-container-id-1 label.sk-toggleable__label-arrow:before {\n",
       "  /* Arrow on the left of the label */\n",
       "  content: \"▸\";\n",
       "  float: left;\n",
       "  margin-right: 0.25em;\n",
       "  color: var(--sklearn-color-icon);\n",
       "}\n",
       "\n",
       "#sk-container-id-1 label.sk-toggleable__label-arrow:hover:before {\n",
       "  color: var(--sklearn-color-text);\n",
       "}\n",
       "\n",
       "/* Toggleable content - dropdown */\n",
       "\n",
       "#sk-container-id-1 div.sk-toggleable__content {\n",
       "  max-height: 0;\n",
       "  max-width: 0;\n",
       "  overflow: hidden;\n",
       "  text-align: left;\n",
       "  /* unfitted */\n",
       "  background-color: var(--sklearn-color-unfitted-level-0);\n",
       "}\n",
       "\n",
       "#sk-container-id-1 div.sk-toggleable__content.fitted {\n",
       "  /* fitted */\n",
       "  background-color: var(--sklearn-color-fitted-level-0);\n",
       "}\n",
       "\n",
       "#sk-container-id-1 div.sk-toggleable__content pre {\n",
       "  margin: 0.2em;\n",
       "  border-radius: 0.25em;\n",
       "  color: var(--sklearn-color-text);\n",
       "  /* unfitted */\n",
       "  background-color: var(--sklearn-color-unfitted-level-0);\n",
       "}\n",
       "\n",
       "#sk-container-id-1 div.sk-toggleable__content.fitted pre {\n",
       "  /* unfitted */\n",
       "  background-color: var(--sklearn-color-fitted-level-0);\n",
       "}\n",
       "\n",
       "#sk-container-id-1 input.sk-toggleable__control:checked~div.sk-toggleable__content {\n",
       "  /* Expand drop-down */\n",
       "  max-height: 200px;\n",
       "  max-width: 100%;\n",
       "  overflow: auto;\n",
       "}\n",
       "\n",
       "#sk-container-id-1 input.sk-toggleable__control:checked~label.sk-toggleable__label-arrow:before {\n",
       "  content: \"▾\";\n",
       "}\n",
       "\n",
       "/* Pipeline/ColumnTransformer-specific style */\n",
       "\n",
       "#sk-container-id-1 div.sk-label input.sk-toggleable__control:checked~label.sk-toggleable__label {\n",
       "  color: var(--sklearn-color-text);\n",
       "  background-color: var(--sklearn-color-unfitted-level-2);\n",
       "}\n",
       "\n",
       "#sk-container-id-1 div.sk-label.fitted input.sk-toggleable__control:checked~label.sk-toggleable__label {\n",
       "  background-color: var(--sklearn-color-fitted-level-2);\n",
       "}\n",
       "\n",
       "/* Estimator-specific style */\n",
       "\n",
       "/* Colorize estimator box */\n",
       "#sk-container-id-1 div.sk-estimator input.sk-toggleable__control:checked~label.sk-toggleable__label {\n",
       "  /* unfitted */\n",
       "  background-color: var(--sklearn-color-unfitted-level-2);\n",
       "}\n",
       "\n",
       "#sk-container-id-1 div.sk-estimator.fitted input.sk-toggleable__control:checked~label.sk-toggleable__label {\n",
       "  /* fitted */\n",
       "  background-color: var(--sklearn-color-fitted-level-2);\n",
       "}\n",
       "\n",
       "#sk-container-id-1 div.sk-label label.sk-toggleable__label,\n",
       "#sk-container-id-1 div.sk-label label {\n",
       "  /* The background is the default theme color */\n",
       "  color: var(--sklearn-color-text-on-default-background);\n",
       "}\n",
       "\n",
       "/* On hover, darken the color of the background */\n",
       "#sk-container-id-1 div.sk-label:hover label.sk-toggleable__label {\n",
       "  color: var(--sklearn-color-text);\n",
       "  background-color: var(--sklearn-color-unfitted-level-2);\n",
       "}\n",
       "\n",
       "/* Label box, darken color on hover, fitted */\n",
       "#sk-container-id-1 div.sk-label.fitted:hover label.sk-toggleable__label.fitted {\n",
       "  color: var(--sklearn-color-text);\n",
       "  background-color: var(--sklearn-color-fitted-level-2);\n",
       "}\n",
       "\n",
       "/* Estimator label */\n",
       "\n",
       "#sk-container-id-1 div.sk-label label {\n",
       "  font-family: monospace;\n",
       "  font-weight: bold;\n",
       "  display: inline-block;\n",
       "  line-height: 1.2em;\n",
       "}\n",
       "\n",
       "#sk-container-id-1 div.sk-label-container {\n",
       "  text-align: center;\n",
       "}\n",
       "\n",
       "/* Estimator-specific */\n",
       "#sk-container-id-1 div.sk-estimator {\n",
       "  font-family: monospace;\n",
       "  border: 1px dotted var(--sklearn-color-border-box);\n",
       "  border-radius: 0.25em;\n",
       "  box-sizing: border-box;\n",
       "  margin-bottom: 0.5em;\n",
       "  /* unfitted */\n",
       "  background-color: var(--sklearn-color-unfitted-level-0);\n",
       "}\n",
       "\n",
       "#sk-container-id-1 div.sk-estimator.fitted {\n",
       "  /* fitted */\n",
       "  background-color: var(--sklearn-color-fitted-level-0);\n",
       "}\n",
       "\n",
       "/* on hover */\n",
       "#sk-container-id-1 div.sk-estimator:hover {\n",
       "  /* unfitted */\n",
       "  background-color: var(--sklearn-color-unfitted-level-2);\n",
       "}\n",
       "\n",
       "#sk-container-id-1 div.sk-estimator.fitted:hover {\n",
       "  /* fitted */\n",
       "  background-color: var(--sklearn-color-fitted-level-2);\n",
       "}\n",
       "\n",
       "/* Specification for estimator info (e.g. \"i\" and \"?\") */\n",
       "\n",
       "/* Common style for \"i\" and \"?\" */\n",
       "\n",
       ".sk-estimator-doc-link,\n",
       "a:link.sk-estimator-doc-link,\n",
       "a:visited.sk-estimator-doc-link {\n",
       "  float: right;\n",
       "  font-size: smaller;\n",
       "  line-height: 1em;\n",
       "  font-family: monospace;\n",
       "  background-color: var(--sklearn-color-background);\n",
       "  border-radius: 1em;\n",
       "  height: 1em;\n",
       "  width: 1em;\n",
       "  text-decoration: none !important;\n",
       "  margin-left: 0.5em;\n",
       "  text-align: center;\n",
       "  /* unfitted */\n",
       "  border: var(--sklearn-color-unfitted-level-1) 1pt solid;\n",
       "  color: var(--sklearn-color-unfitted-level-1);\n",
       "}\n",
       "\n",
       ".sk-estimator-doc-link.fitted,\n",
       "a:link.sk-estimator-doc-link.fitted,\n",
       "a:visited.sk-estimator-doc-link.fitted {\n",
       "  /* fitted */\n",
       "  border: var(--sklearn-color-fitted-level-1) 1pt solid;\n",
       "  color: var(--sklearn-color-fitted-level-1);\n",
       "}\n",
       "\n",
       "/* On hover */\n",
       "div.sk-estimator:hover .sk-estimator-doc-link:hover,\n",
       ".sk-estimator-doc-link:hover,\n",
       "div.sk-label-container:hover .sk-estimator-doc-link:hover,\n",
       ".sk-estimator-doc-link:hover {\n",
       "  /* unfitted */\n",
       "  background-color: var(--sklearn-color-unfitted-level-3);\n",
       "  color: var(--sklearn-color-background);\n",
       "  text-decoration: none;\n",
       "}\n",
       "\n",
       "div.sk-estimator.fitted:hover .sk-estimator-doc-link.fitted:hover,\n",
       ".sk-estimator-doc-link.fitted:hover,\n",
       "div.sk-label-container:hover .sk-estimator-doc-link.fitted:hover,\n",
       ".sk-estimator-doc-link.fitted:hover {\n",
       "  /* fitted */\n",
       "  background-color: var(--sklearn-color-fitted-level-3);\n",
       "  color: var(--sklearn-color-background);\n",
       "  text-decoration: none;\n",
       "}\n",
       "\n",
       "/* Span, style for the box shown on hovering the info icon */\n",
       ".sk-estimator-doc-link span {\n",
       "  display: none;\n",
       "  z-index: 9999;\n",
       "  position: relative;\n",
       "  font-weight: normal;\n",
       "  right: .2ex;\n",
       "  padding: .5ex;\n",
       "  margin: .5ex;\n",
       "  width: min-content;\n",
       "  min-width: 20ex;\n",
       "  max-width: 50ex;\n",
       "  color: var(--sklearn-color-text);\n",
       "  box-shadow: 2pt 2pt 4pt #999;\n",
       "  /* unfitted */\n",
       "  background: var(--sklearn-color-unfitted-level-0);\n",
       "  border: .5pt solid var(--sklearn-color-unfitted-level-3);\n",
       "}\n",
       "\n",
       ".sk-estimator-doc-link.fitted span {\n",
       "  /* fitted */\n",
       "  background: var(--sklearn-color-fitted-level-0);\n",
       "  border: var(--sklearn-color-fitted-level-3);\n",
       "}\n",
       "\n",
       ".sk-estimator-doc-link:hover span {\n",
       "  display: block;\n",
       "}\n",
       "\n",
       "/* \"?\"-specific style due to the `<a>` HTML tag */\n",
       "\n",
       "#sk-container-id-1 a.estimator_doc_link {\n",
       "  float: right;\n",
       "  font-size: 1rem;\n",
       "  line-height: 1em;\n",
       "  font-family: monospace;\n",
       "  background-color: var(--sklearn-color-background);\n",
       "  border-radius: 1rem;\n",
       "  height: 1rem;\n",
       "  width: 1rem;\n",
       "  text-decoration: none;\n",
       "  /* unfitted */\n",
       "  color: var(--sklearn-color-unfitted-level-1);\n",
       "  border: var(--sklearn-color-unfitted-level-1) 1pt solid;\n",
       "}\n",
       "\n",
       "#sk-container-id-1 a.estimator_doc_link.fitted {\n",
       "  /* fitted */\n",
       "  border: var(--sklearn-color-fitted-level-1) 1pt solid;\n",
       "  color: var(--sklearn-color-fitted-level-1);\n",
       "}\n",
       "\n",
       "/* On hover */\n",
       "#sk-container-id-1 a.estimator_doc_link:hover {\n",
       "  /* unfitted */\n",
       "  background-color: var(--sklearn-color-unfitted-level-3);\n",
       "  color: var(--sklearn-color-background);\n",
       "  text-decoration: none;\n",
       "}\n",
       "\n",
       "#sk-container-id-1 a.estimator_doc_link.fitted:hover {\n",
       "  /* fitted */\n",
       "  background-color: var(--sklearn-color-fitted-level-3);\n",
       "}\n",
       "</style><div id=\"sk-container-id-1\" class=\"sk-top-container\"><div class=\"sk-text-repr-fallback\"><pre>LogisticRegression()</pre><b>In a Jupyter environment, please rerun this cell to show the HTML representation or trust the notebook. <br />On GitHub, the HTML representation is unable to render, please try loading this page with nbviewer.org.</b></div><div class=\"sk-container\" hidden><div class=\"sk-item\"><div class=\"sk-estimator fitted sk-toggleable\"><input class=\"sk-toggleable__control sk-hidden--visually\" id=\"sk-estimator-id-1\" type=\"checkbox\" checked><label for=\"sk-estimator-id-1\" class=\"sk-toggleable__label fitted sk-toggleable__label-arrow\"><div><div>LogisticRegression</div></div><div><a class=\"sk-estimator-doc-link fitted\" rel=\"noreferrer\" target=\"_blank\" href=\"https://scikit-learn.org/1.6/modules/generated/sklearn.linear_model.LogisticRegression.html\">?<span>Documentation for LogisticRegression</span></a><span class=\"sk-estimator-doc-link fitted\">i<span>Fitted</span></span></div></label><div class=\"sk-toggleable__content fitted\"><pre>LogisticRegression()</pre></div> </div></div></div></div>"
      ],
      "text/plain": [
       "LogisticRegression()"
      ]
     },
     "execution_count": 72,
     "metadata": {},
     "output_type": "execute_result"
    }
   ],
   "source": [
    "lr = LogisticRegression()\n",
    "lr.fit(vectorized_x_train_smote, y_train_smote)"
   ]
  },
  {
   "cell_type": "code",
   "execution_count": 73,
   "id": "dd774a15-ed4e-4e81-b4a6-f30f54dcb297",
   "metadata": {},
   "outputs": [],
   "source": [
    "y_train_pred = lr.predict(vectorized_x_train_smote)"
   ]
  },
  {
   "cell_type": "code",
   "execution_count": 74,
   "id": "3657d0ca-4aec-47bb-880d-befef8664eed",
   "metadata": {},
   "outputs": [
    {
     "data": {
      "text/plain": [
       "array([1, 0, 0, ..., 1, 1, 1], shape=(9468,))"
      ]
     },
     "execution_count": 74,
     "metadata": {},
     "output_type": "execute_result"
    }
   ],
   "source": [
    "y_train_pred"
   ]
  },
  {
   "cell_type": "code",
   "execution_count": 75,
   "id": "9e69e78b-33ad-4a6f-bc01-87b3e70716da",
   "metadata": {},
   "outputs": [
    {
     "name": "stdout",
     "output_type": "stream",
     "text": [
      "Training Scores:\n",
      "\tAccuracy = 0.943\n",
      "\tPrecision = 0.923\n",
      "\tRecall = 0.966\n",
      "\tF1-Score = 0.944\n"
     ]
    }
   ],
   "source": [
    "training_scores(y_train_smote, y_train_pred)"
   ]
  },
  {
   "cell_type": "code",
   "execution_count": 77,
   "id": "3166148e-c8e7-42ed-86b4-3d8d11838cb7",
   "metadata": {},
   "outputs": [],
   "source": [
    "y_test_pred = lr.predict(vectorized_x_test)"
   ]
  },
  {
   "cell_type": "code",
   "execution_count": 78,
   "id": "44d213e5-002f-41a2-9d1d-03ddbd4c672d",
   "metadata": {},
   "outputs": [
    {
     "name": "stdout",
     "output_type": "stream",
     "text": [
      "Testing Scores:\n",
      "\tAccuracy = 0.868\n",
      "\tPrecision = 0.72\n",
      "\tRecall = 0.83\n",
      "\tF1-Score = 0.771\n"
     ]
    }
   ],
   "source": [
    "validation_scores(y_test, y_test_pred)"
   ]
  },
  {
   "cell_type": "markdown",
   "id": "ca39fd68-1dcd-440b-8d55-0de1e7a6e7ea",
   "metadata": {},
   "source": [
    "### Naive Bayes"
   ]
  },
  {
   "cell_type": "code",
   "execution_count": 79,
   "id": "f0f10148-57c9-4cae-a898-65181ab01c12",
   "metadata": {},
   "outputs": [
    {
     "name": "stdout",
     "output_type": "stream",
     "text": [
      "Training Scores:\n",
      "\tAccuracy = 0.91\n",
      "\tPrecision = 0.872\n",
      "\tRecall = 0.961\n",
      "\tF1-Score = 0.914\n",
      "Testing Scores:\n",
      "\tAccuracy = 0.86\n",
      "\tPrecision = 0.68\n",
      "\tRecall = 0.906\n",
      "\tF1-Score = 0.777\n"
     ]
    }
   ],
   "source": [
    "mnb = MultinomialNB()\n",
    "mnb.fit(vectorized_x_train_smote, y_train_smote)\n",
    "\n",
    "y_train_pred = mnb.predict(vectorized_x_train_smote)\n",
    "\n",
    "y_test_pred = mnb.predict(vectorized_x_test)\n",
    "\n",
    "training_scores(y_train_smote, y_train_pred)\n",
    "\n",
    "validation_scores(y_test, y_test_pred)"
   ]
  },
  {
   "cell_type": "markdown",
   "id": "61c88311-4244-43a2-b649-bc419ea12190",
   "metadata": {},
   "source": [
    "### Decision Tree"
   ]
  },
  {
   "cell_type": "code",
   "execution_count": 80,
   "id": "dae8afcb-6cdb-4dc2-91a0-7473edc86bdc",
   "metadata": {},
   "outputs": [
    {
     "name": "stdout",
     "output_type": "stream",
     "text": [
      "Training Scores:\n",
      "\tAccuracy = 1.0\n",
      "\tPrecision = 1.0\n",
      "\tRecall = 1.0\n",
      "\tF1-Score = 1.0\n",
      "Testing Scores:\n",
      "\tAccuracy = 0.832\n",
      "\tPrecision = 0.694\n",
      "\tRecall = 0.667\n",
      "\tF1-Score = 0.68\n"
     ]
    }
   ],
   "source": [
    "dt = DecisionTreeClassifier()\n",
    "\n",
    "dt.fit(vectorized_x_train_smote, y_train_smote)\n",
    "\n",
    "y_train_pred = dt.predict(vectorized_x_train_smote)\n",
    "\n",
    "y_test_pred = dt.predict(vectorized_x_test)\n",
    "\n",
    "training_scores(y_train_smote, y_train_pred)\n",
    "\n",
    "validation_scores(y_test, y_test_pred)"
   ]
  },
  {
   "cell_type": "markdown",
   "id": "9f662df6-2232-4cab-90bb-052f93b1729d",
   "metadata": {},
   "source": [
    "###  Random Forest"
   ]
  },
  {
   "cell_type": "code",
   "execution_count": 81,
   "id": "16146a63-524f-4bc0-8450-c4d3b450ffc9",
   "metadata": {},
   "outputs": [
    {
     "name": "stdout",
     "output_type": "stream",
     "text": [
      "Training Scores:\n",
      "\tAccuracy = 1.0\n",
      "\tPrecision = 1.0\n",
      "\tRecall = 1.0\n",
      "\tF1-Score = 1.0\n",
      "Testing Scores:\n",
      "\tAccuracy = 0.86\n",
      "\tPrecision = 0.76\n",
      "\tRecall = 0.7\n",
      "\tF1-Score = 0.729\n"
     ]
    }
   ],
   "source": [
    "rf = RandomForestClassifier()\n",
    "\n",
    "rf.fit(vectorized_x_train_smote, y_train_smote)\n",
    "\n",
    "y_train_pred = rf.predict(vectorized_x_train_smote)\n",
    "\n",
    "y_test_pred = rf.predict(vectorized_x_test)\n",
    "\n",
    "training_scores(y_train_smote, y_train_pred)\n",
    "\n",
    "validation_scores(y_test, y_test_pred)"
   ]
  },
  {
   "cell_type": "markdown",
   "id": "b66af9df-8049-4a34-9902-574afdd737b0",
   "metadata": {},
   "source": [
    "### Support Vector Machine"
   ]
  },
  {
   "cell_type": "code",
   "execution_count": 82,
   "id": "c195dee3-7cf2-466d-a15d-1021ef97c0bd",
   "metadata": {},
   "outputs": [
    {
     "name": "stdout",
     "output_type": "stream",
     "text": [
      "Training Scores:\n",
      "\tAccuracy = 0.98\n",
      "\tPrecision = 0.965\n",
      "\tRecall = 0.997\n",
      "\tF1-Score = 0.981\n",
      "Testing Scores:\n",
      "\tAccuracy = 0.881\n",
      "\tPrecision = 0.761\n",
      "\tRecall = 0.811\n",
      "\tF1-Score = 0.785\n"
     ]
    }
   ],
   "source": [
    "svm = SVC()\n",
    "\n",
    "svm.fit(vectorized_x_train_smote, y_train_smote)\n",
    "\n",
    "y_train_pred = svm.predict(vectorized_x_train_smote)\n",
    "\n",
    "y_test_pred = svm.predict(vectorized_x_test)\n",
    "\n",
    "training_scores(y_train_smote, y_train_pred)\n",
    "\n",
    "validation_scores(y_test, y_test_pred)"
   ]
  },
  {
   "cell_type": "code",
   "execution_count": 83,
   "id": "adae4f10-1b82-49b1-8efe-32bc59a6ffb4",
   "metadata": {},
   "outputs": [],
   "source": [
    "import pickle\n",
    "\n",
    "with open('../static/model/model.pickle', 'wb') as file:\n",
    "    pickle.dump(lr, file)"
   ]
  },
  {
   "cell_type": "code",
   "execution_count": null,
   "id": "79bdd09e-0f0d-4110-94df-bc0a3f193148",
   "metadata": {},
   "outputs": [],
   "source": []
  }
 ],
 "metadata": {
  "kernelspec": {
   "display_name": "Python 3 (ipykernel)",
   "language": "python",
   "name": "python3"
  },
  "language_info": {
   "codemirror_mode": {
    "name": "ipython",
    "version": 3
   },
   "file_extension": ".py",
   "mimetype": "text/x-python",
   "name": "python",
   "nbconvert_exporter": "python",
   "pygments_lexer": "ipython3",
   "version": "3.13.0"
  }
 },
 "nbformat": 4,
 "nbformat_minor": 5
}
